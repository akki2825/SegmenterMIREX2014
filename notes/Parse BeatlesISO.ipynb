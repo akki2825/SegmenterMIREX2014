{
 "metadata": {
  "name": "",
  "signature": "sha256:c432ab9fb57211552a47d4b85c6f6dc1ddea9b64f1bfbbdeba3576510937cd11"
 },
 "nbformat": 3,
 "nbformat_minor": 0,
 "worksheets": [
  {
   "cells": [
    {
     "cell_type": "code",
     "collapsed": false,
     "input": [
      "# Parses the BeatlesISO dataset\n",
      "import difflib\n",
      "import glob\n",
      "import os\n",
      "import shutil\n",
      "\n",
      "\n",
      "output_labs_dir = \"/Users/uriadmin/NYU/Dissertation/SegmenterMIREX14/beatlesISO\"\n",
      "audio_wavs = glob.glob(\"/Users/uriadmin/datasets/Segments/originalDatasets/Beatles/originalAudio/*.wav\")\n",
      "segment_labs = glob.glob(\"/Users/uriadmin/datasets/Segments/originalDatasets/Beatles/originalGT/SegmentsISO/*/*.lab\")\n",
      "\n",
      "# Keep file name only from wav files\n",
      "audio_wavs = [os.path.basename(f).replace(\".wav\", \"\") for f in audio_wavs]\n",
      "# print audio_wavs\n",
      "\n",
      "# Match audio files with segment lab files\n",
      "for segment_lab in segment_labs:\n",
      "    file_name = os.path.basename(segment_lab).replace(\".lab\", \"\")\n",
      "    lab_file = difflib.get_close_matches(file_name, audio_wavs, n=1, cutoff=0.5)\n",
      "    out_lab = os.path.join(output_labs_dir, lab_file[0] + \".lab\")\n",
      "    \n",
      "    # File found, let's parse it\n",
      "    with open(segment_lab, \"r\") as f:\n",
      "        lines = f.readlines()\n",
      "    out_str = \"\"\n",
      "    for line in lines:\n",
      "        values = line.split(\"\\t\")\n",
      "        try:\n",
      "            out_str += values[0] + \"\\t\" + values[1] + \"\\t\" + values[-1]\n",
      "        except:\n",
      "            print \"Warning parsing file %s\" % segment_lab\n",
      "            values = line.split(\" \")\n",
      "            out_str += values[0] + \"\\t\" + values[1] + \"\\t\" + values[-1]\n",
      "        assert values[0] != \"\" and values[1] != \"\" and values[-1] != \"\" \\\n",
      "            \"Error parsing file %s\" % segment_lab\n",
      "    \n",
      "    # Write results\n",
      "    with open(out_lab, \"w\") as f:\n",
      "        f.write(out_str)"
     ],
     "language": "python",
     "metadata": {},
     "outputs": [
      {
       "output_type": "stream",
       "stream": "stdout",
       "text": [
        "Warning parsing file /Users/uriadmin/datasets/Segments/originalDatasets/Beatles/originalGT/SegmentsISO/10CD2_-_The_Beatles/CD2_-_06_-_Helter_Skelter.lab\n",
        "Warning parsing file /Users/uriadmin/datasets/Segments/originalDatasets/Beatles/originalGT/SegmentsISO/10CD2_-_The_Beatles/CD2_-_06_-_Helter_Skelter.lab\n",
        "Warning parsing file /Users/uriadmin/datasets/Segments/originalDatasets/Beatles/originalGT/SegmentsISO/10CD2_-_The_Beatles/CD2_-_06_-_Helter_Skelter.lab\n",
        "Warning parsing file /Users/uriadmin/datasets/Segments/originalDatasets/Beatles/originalGT/SegmentsISO/10CD2_-_The_Beatles/CD2_-_06_-_Helter_Skelter.lab\n",
        "Warning parsing file /Users/uriadmin/datasets/Segments/originalDatasets/Beatles/originalGT/SegmentsISO/10CD2_-_The_Beatles/CD2_-_06_-_Helter_Skelter.lab\n",
        "Warning parsing file /Users/uriadmin/datasets/Segments/originalDatasets/Beatles/originalGT/SegmentsISO/10CD2_-_The_Beatles/CD2_-_06_-_Helter_Skelter.lab\n",
        "Warning parsing file /Users/uriadmin/datasets/Segments/originalDatasets/Beatles/originalGT/SegmentsISO/10CD2_-_The_Beatles/CD2_-_06_-_Helter_Skelter.lab\n",
        "Warning parsing file /Users/uriadmin/datasets/Segments/originalDatasets/Beatles/originalGT/SegmentsISO/10CD2_-_The_Beatles/CD2_-_06_-_Helter_Skelter.lab\n",
        "Warning parsing file /Users/uriadmin/datasets/Segments/originalDatasets/Beatles/originalGT/SegmentsISO/10CD2_-_The_Beatles/CD2_-_06_-_Helter_Skelter.lab\n",
        "Warning parsing file /Users/uriadmin/datasets/Segments/originalDatasets/Beatles/originalGT/SegmentsISO/10CD2_-_The_Beatles/CD2_-_06_-_Helter_Skelter.lab\n",
        "Warning parsing file /Users/uriadmin/datasets/Segments/originalDatasets/Beatles/originalGT/SegmentsISO/10CD2_-_The_Beatles/CD2_-_06_-_Helter_Skelter.lab\n"
       ]
      }
     ],
     "prompt_number": 37
    },
    {
     "cell_type": "code",
     "collapsed": false,
     "input": [],
     "language": "python",
     "metadata": {},
     "outputs": []
    }
   ],
   "metadata": {}
  }
 ]
}